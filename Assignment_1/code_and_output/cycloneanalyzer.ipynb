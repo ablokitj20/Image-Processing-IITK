{
 "cells": [
  {
   "cell_type": "markdown",
   "id": "1a3b76ca",
   "metadata": {},
   "source": [
    "# This is the question 3 of Assignment \n",
    "#### by Ablokit Joshi (200030)"
   ]
  },
  {
   "cell_type": "code",
   "execution_count": 58,
   "id": "3db0683f",
   "metadata": {},
   "outputs": [],
   "source": [
    "import cv2 as cv\n",
    "import numpy as np"
   ]
  },
  {
   "cell_type": "code",
   "execution_count": 59,
   "id": "9e41cbae",
   "metadata": {},
   "outputs": [],
   "source": [
    "img1 = cv.imread('./1.jpg')\n",
    "img2 = cv.imread('./2.jpg')\n",
    "img3 = cv.imread('./3.jpg')"
   ]
  },
  {
   "cell_type": "markdown",
   "id": "d1f0f81c",
   "metadata": {},
   "source": [
    "Location of Belna and Ambali respectively in three different times given"
   ]
  },
  {
   "cell_type": "code",
   "execution_count": 60,
   "id": "9dead14e",
   "metadata": {},
   "outputs": [],
   "source": [
    "loc1 = [[240,114],\n",
    "        [548,181]]\n",
    "loc2 = [[224, 122],\n",
    "        [540, 189]]\n",
    "loc3 = [[217, 134], \n",
    "        [529, 197]]\n"
   ]
  },
  {
   "cell_type": "markdown",
   "id": "0e6c1edc",
   "metadata": {},
   "source": [
    "Straight line equation i.e. y = mx+c (where m is slope and c is y-intercept) for Belna and Ambali respectively"
   ]
  },
  {
   "cell_type": "code",
   "execution_count": 61,
   "id": "1467da1b",
   "metadata": {},
   "outputs": [],
   "source": [
    "slope_B = (loc3[0][1] - loc2[0][1])/(loc3[0][0] - loc2[0][0])\n",
    "y_inter_B = loc2[0][1] - slope_B*loc2[0][0]\n",
    "\n",
    "slope_A = (loc3[1][1] - loc2[1][1])/(loc3[1][0] - loc2[1][0])\n",
    "y_inter_A = loc2[1][1] - slope_A*loc2[1][0]"
   ]
  },
  {
   "cell_type": "markdown",
   "id": "ac6af317",
   "metadata": {},
   "source": [
    "Intersection of two straight lines"
   ]
  },
  {
   "cell_type": "code",
   "execution_count": 62,
   "id": "5026510a",
   "metadata": {},
   "outputs": [
    {
     "name": "stdout",
     "output_type": "stream",
     "text": [
      "(-76.72368421052632, 637.5263157894736)\n"
     ]
    }
   ],
   "source": [
    "def lines(A,B):\n",
    "    x = A[1]-B[1]\n",
    "    y = B[0]-A[0]\n",
    "    z = A[1]*B[0]-B[1]*A[0]\n",
    "    return x,y,z\n",
    "\n",
    "def intersecting_pts(A,B): #solving two equation with two variables using determinant method\n",
    "    d  = A[0] * B[1] - A[1] * B[0]\n",
    "    dx = A[2] * B[1] - A[1] * B[2]\n",
    "    dy = A[0] * B[2] - A[2] * B[0]\n",
    "    \n",
    "    if d:\n",
    "        x = dx / d\n",
    "        y = dy / d\n",
    "        return x,y\n",
    "    else:\n",
    "        return False\n",
    "\n",
    "A = lines(loc2[0],loc3[0])\n",
    "B = lines(loc2[1],loc3[1])\n",
    "print(intersecting_pts(A,B))"
   ]
  },
  {
   "cell_type": "markdown",
   "id": "747e91eb",
   "metadata": {},
   "source": [
    "Thus they intersect outside the figure"
   ]
  },
  {
   "cell_type": "markdown",
   "id": "aa132276",
   "metadata": {},
   "source": [
    "## Pixel Coordinates of given cities and islands\n",
    " ### Cities\n",
    " ###### Antsiranana = (201, 268)\n",
    " ###### Antananarivo = (140, 437)\n",
    " ###### Benonoka = (95, 618)\n",
    " \n",
    " ### Islands\n",
    " ###### Mauritius = (416, 476)\n",
    " ###### Reunion => (363, 499)"
   ]
  },
  {
   "cell_type": "markdown",
   "id": "363b3323",
   "metadata": {},
   "source": [
    "### Let distance in Pixel coordinates be d_p and distance in real coordinates be d_r, then:\n",
    "    d_r = n*d_p where n is a propotionality constant "
   ]
  },
  {
   "cell_type": "code",
   "execution_count": 63,
   "id": "93d37b6a",
   "metadata": {},
   "outputs": [
    {
     "name": "stdout",
     "output_type": "stream",
     "text": [
      "distance between Antsiranana and  Benonoka is: 365.6993300513415 and distance between Mauritius and  Reunion is: 57.77542730261716\n"
     ]
    }
   ],
   "source": [
    "#distance between Antsiranana and  Benonoka in pixel coordinates\n",
    "dist_c_p = np.sqrt((201-95)**2 + (268-618)**2)\n",
    "\n",
    "#distance between Mauritius and  Reunion in pixel coordinates\n",
    "dist_i_p = np.sqrt((416-363)**2 + (476-499)**2)\n",
    "\n",
    "print(\"distance between Antsiranana and  Benonoka is: \" + str(dist_c_p) + \" and distance between Mauritius and  Reunion is: \" + str(dist_i_p))\n",
    "# print(dist_c_p)\n",
    "# print(\"\\ndistance between Mauritius and  Reunion is: \")\n",
    "# print(dist_i_p)"
   ]
  },
  {
   "cell_type": "markdown",
   "id": "c27189bc",
   "metadata": {},
   "source": [
    "### Now to find the value of n"
   ]
  },
  {
   "cell_type": "code",
   "execution_count": 64,
   "id": "94ceb72f",
   "metadata": {},
   "outputs": [
    {
     "name": "stdout",
     "output_type": "stream",
     "text": [
      "Thus the value of n is 4.214414673351662\n"
     ]
    }
   ],
   "source": [
    "n1 = 1500/dist_c_p\n",
    "n2 = 250/dist_i_p\n",
    "n = 0.5*(n1+n2) #taking mean of the two\n",
    "print(\"Thus the value of n is\",n)"
   ]
  },
  {
   "cell_type": "markdown",
   "id": "b68df3e4",
   "metadata": {},
   "source": [
    "### Distance of apojuncture from the capital city of Antananarivo"
   ]
  },
  {
   "cell_type": "code",
   "execution_count": 65,
   "id": "1a1a4b24",
   "metadata": {},
   "outputs": [
    {
     "name": "stdout",
     "output_type": "stream",
     "text": [
      "1244.3587175119246\n"
     ]
    }
   ],
   "source": [
    "dist_Apo2Anta_pix = np.sqrt((140+76.72368421052632)**2 + (437 - 637.5263157894736)**2)\n",
    "dist_Apo2Anta_real = n*dist_Apo2Anta_pix\n",
    "print(dist_Apo2Anta_real)"
   ]
  },
  {
   "cell_type": "markdown",
   "id": "74296507",
   "metadata": {},
   "source": [
    "### Thus the distance between apojuncture and Antananarivo is 1244.36 km"
   ]
  },
  {
   "cell_type": "markdown",
   "id": "3a0368c4",
   "metadata": {},
   "source": [
    "### Distance of apojuncture from last captured cyclones"
   ]
  },
  {
   "cell_type": "code",
   "execution_count": 66,
   "id": "533dcd13",
   "metadata": {},
   "outputs": [
    {
     "name": "stdout",
     "output_type": "stream",
     "text": [
      "Distance of apojuncture from Belna is 2456.7267057283466 km and from Ambali is 3156.4942288100724 km\n"
     ]
    }
   ],
   "source": [
    "dist_Apo2Belna = n*(np.sqrt((217+76.72368421052632)**2 + (134 - 637.5263157894736)**2))\n",
    "\n",
    "dist_Apo2Ambali = n*(np.sqrt((529+76.72368421052632)**2 + (197 - 637.5263157894736)**2))\n",
    "\n",
    "print(\"Distance of apojuncture from Belna is \" + str(dist_Apo2Belna) + \" km and from Ambali is \" + str(dist_Apo2Ambali) + \" km\")"
   ]
  },
  {
   "cell_type": "markdown",
   "id": "4fcb689b",
   "metadata": {},
   "source": [
    "### Avg velocity of cyclone Belna"
   ]
  },
  {
   "cell_type": "code",
   "execution_count": 67,
   "id": "f5039de0",
   "metadata": {},
   "outputs": [
    {
     "name": "stdout",
     "output_type": "stream",
     "text": [
      "Avg velocity of cyclone Belna is 87.09878178500512 kmph\n"
     ]
    }
   ],
   "source": [
    "dist_B_loc1to2 = n*(np.sqrt((loc1[0][0] - loc2[0][0])**2 + (loc1[0][1] - loc2[0][1])**2))\n",
    "time_B_loc1to2 = 41/60 #calculating in hours || 14:03-->14:44\n",
    "velocity_B_1to2 = dist_B_loc1to2/time_B_loc1to2\n",
    "\n",
    "dist_B_loc2to3 = n*(np.sqrt((loc2[0][0] - loc3[0][0])**2 + (loc2[0][1] - loc3[0][1])**2))\n",
    "time_B_loc2to3 = 55/60 #calculating in hours || 14:44-->15:39\n",
    "velocity_B_2to3 = dist_B_loc2to3/time_B_loc2to3\n",
    "\n",
    "velocity_B = 0.5*(velocity_B_1to2 + velocity_B_2to3)\n",
    "print(\"Avg velocity of cyclone Belna is \" + str(velocity_B) + \" kmph\")"
   ]
  },
  {
   "cell_type": "markdown",
   "id": "cac7f7f6",
   "metadata": {},
   "source": [
    "### Avg velocity of cyclone Ambali"
   ]
  },
  {
   "cell_type": "code",
   "execution_count": 68,
   "id": "175d9387",
   "metadata": {},
   "outputs": [
    {
     "name": "stdout",
     "output_type": "stream",
     "text": [
      "Avg velocity of cyclone Ambali is 66.15496182021445 kmph\n"
     ]
    }
   ],
   "source": [
    "dist_A_loc1to2 = n*(np.sqrt((loc1[1][0] - loc2[1][0])**2 + (loc1[1][1] - loc2[1][1])**2))\n",
    "time_A_loc1to2 = 41/60 #calculating in hours || 14:03-->14:44\n",
    "velocity_A_1to2 = dist_A_loc1to2/time_A_loc1to2\n",
    "\n",
    "dist_A_loc2to3 = n*(np.sqrt((loc2[1][0] - loc3[1][0])**2 + (loc2[1][1] - loc3[1][1])**2))\n",
    "time_A_loc2to3 = 55/60 #calculating in hours || 14:44-->15:39\n",
    "velocity_A_2to3 = dist_A_loc2to3/time_A_loc2to3\n",
    "\n",
    "velocity_A = 0.5*(velocity_A_1to2 + velocity_A_2to3)\n",
    "print(\"Avg velocity of cyclone Ambali is \" + str(velocity_A) + \" kmph\")"
   ]
  },
  {
   "cell_type": "markdown",
   "id": "9438e9f6",
   "metadata": {},
   "source": [
    "### Time taken for Belna and Ambali to reach apojuncture"
   ]
  },
  {
   "cell_type": "code",
   "execution_count": 69,
   "id": "6566ca81",
   "metadata": {},
   "outputs": [
    {
     "name": "stdout",
     "output_type": "stream",
     "text": [
      "Time taken for Belna to reach apojuncture is 28.206hrs and for Ambali is 47.714 hrs\n"
     ]
    }
   ],
   "source": [
    "time_Belna = float(\"{:.3f}\".format((dist_Apo2Belna/velocity_B)))\n",
    "\n",
    "time_Ambali = float(\"{:.3f}\".format((dist_Apo2Ambali/velocity_A)))\n",
    "\n",
    "\n",
    "print(\"Time taken for Belna to reach apojuncture is \" + str(time_Belna) + \"hrs and for Ambali is \" + str(time_Ambali) + \" hrs\")"
   ]
  },
  {
   "cell_type": "markdown",
   "id": "2c025a48",
   "metadata": {},
   "source": [
    "# SUMMARY"
   ]
  },
  {
   "cell_type": "markdown",
   "id": "f88e1516",
   "metadata": {},
   "source": [
    "### Distance between apojuncture and Antananarivo is 1244.36 km\n",
    "### Distance of apojuncture from Belna is 2456.73 km and from Ambali is 3156.49 km\n",
    "### Avg velocity of cyclone Belna is 87.10 kmph\n",
    "### Avg velocity of cyclone Ambali is 66.15 kmph\n",
    "### Time taken for Belna to reach apojuncture is 28.206hrs and for Ambali is 47.714 hrs and thus they will never collide as the time taken is different for both"
   ]
  },
  {
   "cell_type": "code",
   "execution_count": 70,
   "id": "8f15d802",
   "metadata": {},
   "outputs": [],
   "source": [
    "#End of code"
   ]
  }
 ],
 "metadata": {
  "kernelspec": {
   "display_name": "Python 3 (ipykernel)",
   "language": "python",
   "name": "python3"
  },
  "language_info": {
   "codemirror_mode": {
    "name": "ipython",
    "version": 3
   },
   "file_extension": ".py",
   "mimetype": "text/x-python",
   "name": "python",
   "nbconvert_exporter": "python",
   "pygments_lexer": "ipython3",
   "version": "3.9.7"
  }
 },
 "nbformat": 4,
 "nbformat_minor": 5
}
